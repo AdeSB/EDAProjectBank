{
 "cells": [
  {
   "cell_type": "markdown",
   "metadata": {
    "id": "Htlt09e3AMoL"
   },
   "source": [
    "# **EDA Project on Banking Dataset**"
   ]
  },
  {
   "cell_type": "markdown",
   "metadata": {
    "id": "Fg7TWb5gAVwq"
   },
   "source": [
    "## 1. Importing Library"
   ]
  },
  {
   "cell_type": "code",
   "execution_count": 41,
   "metadata": {
    "id": "Z6xhGgAOAkul"
   },
   "outputs": [],
   "source": [
    "import pandas as pd                   # needed in the data manipulation process\n",
    "import numpy as np                    # needed when working with arrays\n",
    "import seaborn as sns                 # needed under matplotlib in order to plot the graph\n",
    "import matplotlib.pyplot as plt       # needed to create visualization for data analysis results"
   ]
  },
  {
   "cell_type": "markdown",
   "metadata": {
    "id": "ngpMmvk0FrvW"
   },
   "source": [
    "## 2. Connected to Datasource"
   ]
  },
  {
   "cell_type": "code",
   "execution_count": 42,
   "metadata": {
    "id": "pJeAkz4hFyOC"
   },
   "outputs": [],
   "source": [
    "url = 'https://raw.githubusercontent.com/KennethParulian/PythonEDAEnigmacamp/main/MOCK_DATA%20(4).csv'\n",
    "df = pd.read_csv(url)                 # read the dataset from URL (web source)"
   ]
  },
  {
   "cell_type": "markdown",
   "metadata": {
    "id": "ckpkbMkVKIsO"
   },
   "source": [
    "## 3. Data Validation Processes"
   ]
  },
  {
   "cell_type": "code",
   "execution_count": 43,
   "metadata": {
    "colab": {
     "base_uri": "https://localhost:8080/"
    },
    "id": "vqwh3hwxKQ0f",
    "outputId": "4dd04538-bffb-4931-f292-04eb62eca688"
   },
   "outputs": [
    {
     "data": {
      "text/html": [
       "<div>\n",
       "<style scoped>\n",
       "    .dataframe tbody tr th:only-of-type {\n",
       "        vertical-align: middle;\n",
       "    }\n",
       "\n",
       "    .dataframe tbody tr th {\n",
       "        vertical-align: top;\n",
       "    }\n",
       "\n",
       "    .dataframe thead th {\n",
       "        text-align: right;\n",
       "    }\n",
       "</style>\n",
       "<table border=\"1\" class=\"dataframe\">\n",
       "  <thead>\n",
       "    <tr style=\"text-align: right;\">\n",
       "      <th></th>\n",
       "      <th>id</th>\n",
       "      <th>first_name</th>\n",
       "      <th>last_name</th>\n",
       "      <th>email</th>\n",
       "      <th>gender</th>\n",
       "      <th>CreditCardNumber</th>\n",
       "      <th>CreditCardLimit</th>\n",
       "    </tr>\n",
       "  </thead>\n",
       "  <tbody>\n",
       "    <tr>\n",
       "      <th>0</th>\n",
       "      <td>1</td>\n",
       "      <td>Esdras</td>\n",
       "      <td>Woof</td>\n",
       "      <td>ewoof0@cyberchimps.com</td>\n",
       "      <td>Genderfluid</td>\n",
       "      <td>5464400705962728</td>\n",
       "      <td>$267373.54</td>\n",
       "    </tr>\n",
       "    <tr>\n",
       "      <th>1</th>\n",
       "      <td>2</td>\n",
       "      <td>Dayle</td>\n",
       "      <td>Dorkin</td>\n",
       "      <td>ddorkin1@rambler.ru</td>\n",
       "      <td>Female</td>\n",
       "      <td>3570835748616573</td>\n",
       "      <td>$279212.84</td>\n",
       "    </tr>\n",
       "    <tr>\n",
       "      <th>2</th>\n",
       "      <td>3</td>\n",
       "      <td>Darb</td>\n",
       "      <td>Poll</td>\n",
       "      <td>dpoll2@github.io</td>\n",
       "      <td>Genderqueer</td>\n",
       "      <td>3543523413407981</td>\n",
       "      <td>$220606.83</td>\n",
       "    </tr>\n",
       "    <tr>\n",
       "      <th>3</th>\n",
       "      <td>4</td>\n",
       "      <td>Tanitansy</td>\n",
       "      <td>Allanby</td>\n",
       "      <td>tallanby3@mac.com</td>\n",
       "      <td>Female</td>\n",
       "      <td>3583780889066680</td>\n",
       "      <td>$6645.06</td>\n",
       "    </tr>\n",
       "    <tr>\n",
       "      <th>4</th>\n",
       "      <td>5</td>\n",
       "      <td>Lon</td>\n",
       "      <td>Bachura</td>\n",
       "      <td>lbachura4@bizjournals.com</td>\n",
       "      <td>Male</td>\n",
       "      <td>30017073265876</td>\n",
       "      <td>$327407.09</td>\n",
       "    </tr>\n",
       "    <tr>\n",
       "      <th>5</th>\n",
       "      <td>6</td>\n",
       "      <td>Boycie</td>\n",
       "      <td>Beed</td>\n",
       "      <td>bbeed5@nifty.com</td>\n",
       "      <td>Female</td>\n",
       "      <td>372301317645465</td>\n",
       "      <td>$279914.84</td>\n",
       "    </tr>\n",
       "    <tr>\n",
       "      <th>6</th>\n",
       "      <td>7</td>\n",
       "      <td>Alejandra</td>\n",
       "      <td>Gleeson</td>\n",
       "      <td>agleeson6@1und1.de</td>\n",
       "      <td>Male</td>\n",
       "      <td>4508401219202214</td>\n",
       "      <td>$168005.20</td>\n",
       "    </tr>\n",
       "    <tr>\n",
       "      <th>7</th>\n",
       "      <td>8</td>\n",
       "      <td>Terrye</td>\n",
       "      <td>Gilford</td>\n",
       "      <td>tgilford7@huffingtonpost.com</td>\n",
       "      <td>Female</td>\n",
       "      <td>4405945696289817</td>\n",
       "      <td>$114715.15</td>\n",
       "    </tr>\n",
       "    <tr>\n",
       "      <th>8</th>\n",
       "      <td>9</td>\n",
       "      <td>Petr</td>\n",
       "      <td>Turmall</td>\n",
       "      <td>pturmall8@bizjournals.com</td>\n",
       "      <td>Female</td>\n",
       "      <td>3540676954417331</td>\n",
       "      <td>$223906.99</td>\n",
       "    </tr>\n",
       "    <tr>\n",
       "      <th>9</th>\n",
       "      <td>10</td>\n",
       "      <td>Vin</td>\n",
       "      <td>Grass</td>\n",
       "      <td>vgrass9@github.io</td>\n",
       "      <td>Male</td>\n",
       "      <td>3564766951377629</td>\n",
       "      <td>$232814.86</td>\n",
       "    </tr>\n",
       "    <tr>\n",
       "      <th>10</th>\n",
       "      <td>11</td>\n",
       "      <td>Henry</td>\n",
       "      <td>Maddie</td>\n",
       "      <td>hmaddiea@arstechnica.com</td>\n",
       "      <td>Female</td>\n",
       "      <td>5602241590924990</td>\n",
       "      <td>$275794.72</td>\n",
       "    </tr>\n",
       "    <tr>\n",
       "      <th>11</th>\n",
       "      <td>12</td>\n",
       "      <td>Julissa</td>\n",
       "      <td>Giacopello</td>\n",
       "      <td>jgiacopellob@usgs.gov</td>\n",
       "      <td>Male</td>\n",
       "      <td>3531120028012498</td>\n",
       "      <td>$49200.80</td>\n",
       "    </tr>\n",
       "    <tr>\n",
       "      <th>12</th>\n",
       "      <td>13</td>\n",
       "      <td>Roth</td>\n",
       "      <td>Clementet</td>\n",
       "      <td>rclementetc@prnewswire.com</td>\n",
       "      <td>Female</td>\n",
       "      <td>3588715614142203</td>\n",
       "      <td>$223926.36</td>\n",
       "    </tr>\n",
       "    <tr>\n",
       "      <th>13</th>\n",
       "      <td>14</td>\n",
       "      <td>Dinnie</td>\n",
       "      <td>Poland</td>\n",
       "      <td>dpolandd@springer.com</td>\n",
       "      <td>Male</td>\n",
       "      <td>3575148690466244</td>\n",
       "      <td>$107063.23</td>\n",
       "    </tr>\n",
       "    <tr>\n",
       "      <th>14</th>\n",
       "      <td>15</td>\n",
       "      <td>Nefen</td>\n",
       "      <td>Petrina</td>\n",
       "      <td>npetrinae@arizona.edu</td>\n",
       "      <td>Male</td>\n",
       "      <td>4913343707650950</td>\n",
       "      <td>$179058.87</td>\n",
       "    </tr>\n",
       "    <tr>\n",
       "      <th>15</th>\n",
       "      <td>16</td>\n",
       "      <td>Zelig</td>\n",
       "      <td>Chue</td>\n",
       "      <td>zchuef@wsj.com</td>\n",
       "      <td>Male</td>\n",
       "      <td>6334156218461386</td>\n",
       "      <td>$9965.45</td>\n",
       "    </tr>\n",
       "    <tr>\n",
       "      <th>16</th>\n",
       "      <td>17</td>\n",
       "      <td>Margret</td>\n",
       "      <td>Brisse</td>\n",
       "      <td>mbrisseg@washingtonpost.com</td>\n",
       "      <td>Female</td>\n",
       "      <td>3545632877684825</td>\n",
       "      <td>$230089.15</td>\n",
       "    </tr>\n",
       "    <tr>\n",
       "      <th>17</th>\n",
       "      <td>18</td>\n",
       "      <td>Rozalin</td>\n",
       "      <td>Tallquist</td>\n",
       "      <td>rtallquisth@cocolog-nifty.com</td>\n",
       "      <td>Agender</td>\n",
       "      <td>4903562934339309</td>\n",
       "      <td>$245007.03</td>\n",
       "    </tr>\n",
       "    <tr>\n",
       "      <th>18</th>\n",
       "      <td>19</td>\n",
       "      <td>Chery</td>\n",
       "      <td>Sweeten</td>\n",
       "      <td>csweeteni@geocities.jp</td>\n",
       "      <td>Female</td>\n",
       "      <td>3562119135935700</td>\n",
       "      <td>$49596.27</td>\n",
       "    </tr>\n",
       "    <tr>\n",
       "      <th>19</th>\n",
       "      <td>20</td>\n",
       "      <td>Dallas</td>\n",
       "      <td>Guillain</td>\n",
       "      <td>dguillainj@exblog.jp</td>\n",
       "      <td>Female</td>\n",
       "      <td>3556202032297057</td>\n",
       "      <td>$179987.90</td>\n",
       "    </tr>\n",
       "  </tbody>\n",
       "</table>\n",
       "</div>"
      ],
      "text/plain": [
       "    id first_name   last_name                          email       gender  \\\n",
       "0    1     Esdras        Woof         ewoof0@cyberchimps.com  Genderfluid   \n",
       "1    2      Dayle      Dorkin            ddorkin1@rambler.ru       Female   \n",
       "2    3       Darb        Poll               dpoll2@github.io  Genderqueer   \n",
       "3    4  Tanitansy     Allanby              tallanby3@mac.com       Female   \n",
       "4    5        Lon     Bachura      lbachura4@bizjournals.com         Male   \n",
       "5    6     Boycie        Beed               bbeed5@nifty.com       Female   \n",
       "6    7  Alejandra     Gleeson             agleeson6@1und1.de         Male   \n",
       "7    8     Terrye     Gilford   tgilford7@huffingtonpost.com       Female   \n",
       "8    9       Petr     Turmall      pturmall8@bizjournals.com       Female   \n",
       "9   10        Vin       Grass              vgrass9@github.io         Male   \n",
       "10  11      Henry      Maddie       hmaddiea@arstechnica.com       Female   \n",
       "11  12    Julissa  Giacopello          jgiacopellob@usgs.gov         Male   \n",
       "12  13       Roth   Clementet     rclementetc@prnewswire.com       Female   \n",
       "13  14     Dinnie      Poland          dpolandd@springer.com         Male   \n",
       "14  15      Nefen     Petrina          npetrinae@arizona.edu         Male   \n",
       "15  16      Zelig        Chue                 zchuef@wsj.com         Male   \n",
       "16  17    Margret      Brisse    mbrisseg@washingtonpost.com       Female   \n",
       "17  18    Rozalin   Tallquist  rtallquisth@cocolog-nifty.com      Agender   \n",
       "18  19      Chery     Sweeten         csweeteni@geocities.jp       Female   \n",
       "19  20     Dallas    Guillain           dguillainj@exblog.jp       Female   \n",
       "\n",
       "    CreditCardNumber CreditCardLimit  \n",
       "0   5464400705962728      $267373.54  \n",
       "1   3570835748616573      $279212.84  \n",
       "2   3543523413407981      $220606.83  \n",
       "3   3583780889066680        $6645.06  \n",
       "4     30017073265876      $327407.09  \n",
       "5    372301317645465      $279914.84  \n",
       "6   4508401219202214      $168005.20  \n",
       "7   4405945696289817      $114715.15  \n",
       "8   3540676954417331      $223906.99  \n",
       "9   3564766951377629      $232814.86  \n",
       "10  5602241590924990      $275794.72  \n",
       "11  3531120028012498       $49200.80  \n",
       "12  3588715614142203      $223926.36  \n",
       "13  3575148690466244      $107063.23  \n",
       "14  4913343707650950      $179058.87  \n",
       "15  6334156218461386        $9965.45  \n",
       "16  3545632877684825      $230089.15  \n",
       "17  4903562934339309      $245007.03  \n",
       "18  3562119135935700       $49596.27  \n",
       "19  3556202032297057      $179987.90  "
      ]
     },
     "execution_count": 43,
     "metadata": {},
     "output_type": "execute_result"
    }
   ],
   "source": [
    "df.head(20)                          # showing up top 20 data"
   ]
  },
  {
   "cell_type": "code",
   "execution_count": 44,
   "metadata": {
    "colab": {
     "base_uri": "https://localhost:8080/"
    },
    "id": "KVbhrzqeKfaK",
    "outputId": "a6a9173c-9f23-4769-f11d-e6789248edce",
    "scrolled": true
   },
   "outputs": [
    {
     "name": "stdout",
     "output_type": "stream",
     "text": [
      "<class 'pandas.core.frame.DataFrame'>\n",
      "RangeIndex: 1000 entries, 0 to 999\n",
      "Data columns (total 7 columns):\n",
      " #   Column            Non-Null Count  Dtype \n",
      "---  ------            --------------  ----- \n",
      " 0   id                1000 non-null   int64 \n",
      " 1   first_name        1000 non-null   object\n",
      " 2   last_name         1000 non-null   object\n",
      " 3   email             1000 non-null   object\n",
      " 4   gender            1000 non-null   object\n",
      " 5   CreditCardNumber  1000 non-null   int64 \n",
      " 6   CreditCardLimit   977 non-null    object\n",
      "dtypes: int64(2), object(5)\n",
      "memory usage: 54.8+ KB\n"
     ]
    }
   ],
   "source": [
    "df.info()                             # show the structure of dataset"
   ]
  },
  {
   "cell_type": "code",
   "execution_count": 45,
   "metadata": {
    "colab": {
     "base_uri": "https://localhost:8080/"
    },
    "id": "Fr3fpmdgNZlE",
    "outputId": "f0ed2fc2-2b86-4655-8ebe-27ae6bda33c6",
    "scrolled": true
   },
   "outputs": [
    {
     "data": {
      "text/plain": [
       "0      False\n",
       "1      False\n",
       "2      False\n",
       "3      False\n",
       "4      False\n",
       "       ...  \n",
       "995    False\n",
       "996    False\n",
       "997    False\n",
       "998    False\n",
       "999    False\n",
       "Length: 1000, dtype: bool"
      ]
     },
     "execution_count": 45,
     "metadata": {},
     "output_type": "execute_result"
    }
   ],
   "source": [
    "df.duplicated(subset=None, keep='first') # show duplicate data"
   ]
  },
  {
   "cell_type": "code",
   "execution_count": 46,
   "metadata": {
    "scrolled": false
   },
   "outputs": [
    {
     "data": {
      "text/html": [
       "<div>\n",
       "<style scoped>\n",
       "    .dataframe tbody tr th:only-of-type {\n",
       "        vertical-align: middle;\n",
       "    }\n",
       "\n",
       "    .dataframe tbody tr th {\n",
       "        vertical-align: top;\n",
       "    }\n",
       "\n",
       "    .dataframe thead th {\n",
       "        text-align: right;\n",
       "    }\n",
       "</style>\n",
       "<table border=\"1\" class=\"dataframe\">\n",
       "  <thead>\n",
       "    <tr style=\"text-align: right;\">\n",
       "      <th></th>\n",
       "      <th>id</th>\n",
       "      <th>first_name</th>\n",
       "      <th>last_name</th>\n",
       "      <th>email</th>\n",
       "      <th>gender</th>\n",
       "      <th>CreditCardNumber</th>\n",
       "      <th>CreditCardLimit</th>\n",
       "      <th>CreditRating</th>\n",
       "    </tr>\n",
       "  </thead>\n",
       "  <tbody>\n",
       "    <tr>\n",
       "      <th>0</th>\n",
       "      <td>1</td>\n",
       "      <td>Esdras</td>\n",
       "      <td>Woof</td>\n",
       "      <td>ewoof0@cyberchimps.com</td>\n",
       "      <td>Genderfluid</td>\n",
       "      <td>5464400705962728</td>\n",
       "      <td>$267373.54</td>\n",
       "      <td>2</td>\n",
       "    </tr>\n",
       "    <tr>\n",
       "      <th>1</th>\n",
       "      <td>2</td>\n",
       "      <td>Dayle</td>\n",
       "      <td>Dorkin</td>\n",
       "      <td>ddorkin1@rambler.ru</td>\n",
       "      <td>Female</td>\n",
       "      <td>3570835748616573</td>\n",
       "      <td>$279212.84</td>\n",
       "      <td>6</td>\n",
       "    </tr>\n",
       "    <tr>\n",
       "      <th>2</th>\n",
       "      <td>3</td>\n",
       "      <td>Darb</td>\n",
       "      <td>Poll</td>\n",
       "      <td>dpoll2@github.io</td>\n",
       "      <td>Genderqueer</td>\n",
       "      <td>3543523413407981</td>\n",
       "      <td>$220606.83</td>\n",
       "      <td>8</td>\n",
       "    </tr>\n",
       "    <tr>\n",
       "      <th>3</th>\n",
       "      <td>4</td>\n",
       "      <td>Tanitansy</td>\n",
       "      <td>Allanby</td>\n",
       "      <td>tallanby3@mac.com</td>\n",
       "      <td>Female</td>\n",
       "      <td>3583780889066680</td>\n",
       "      <td>$6645.06</td>\n",
       "      <td>4</td>\n",
       "    </tr>\n",
       "    <tr>\n",
       "      <th>4</th>\n",
       "      <td>5</td>\n",
       "      <td>Lon</td>\n",
       "      <td>Bachura</td>\n",
       "      <td>lbachura4@bizjournals.com</td>\n",
       "      <td>Male</td>\n",
       "      <td>30017073265876</td>\n",
       "      <td>$327407.09</td>\n",
       "      <td>1</td>\n",
       "    </tr>\n",
       "    <tr>\n",
       "      <th>5</th>\n",
       "      <td>6</td>\n",
       "      <td>Boycie</td>\n",
       "      <td>Beed</td>\n",
       "      <td>bbeed5@nifty.com</td>\n",
       "      <td>Female</td>\n",
       "      <td>372301317645465</td>\n",
       "      <td>$279914.84</td>\n",
       "      <td>1</td>\n",
       "    </tr>\n",
       "    <tr>\n",
       "      <th>6</th>\n",
       "      <td>7</td>\n",
       "      <td>Alejandra</td>\n",
       "      <td>Gleeson</td>\n",
       "      <td>agleeson6@1und1.de</td>\n",
       "      <td>Male</td>\n",
       "      <td>4508401219202214</td>\n",
       "      <td>$168005.20</td>\n",
       "      <td>6</td>\n",
       "    </tr>\n",
       "    <tr>\n",
       "      <th>7</th>\n",
       "      <td>8</td>\n",
       "      <td>Terrye</td>\n",
       "      <td>Gilford</td>\n",
       "      <td>tgilford7@huffingtonpost.com</td>\n",
       "      <td>Female</td>\n",
       "      <td>4405945696289817</td>\n",
       "      <td>$114715.15</td>\n",
       "      <td>5</td>\n",
       "    </tr>\n",
       "    <tr>\n",
       "      <th>8</th>\n",
       "      <td>9</td>\n",
       "      <td>Petr</td>\n",
       "      <td>Turmall</td>\n",
       "      <td>pturmall8@bizjournals.com</td>\n",
       "      <td>Female</td>\n",
       "      <td>3540676954417331</td>\n",
       "      <td>$223906.99</td>\n",
       "      <td>3</td>\n",
       "    </tr>\n",
       "    <tr>\n",
       "      <th>9</th>\n",
       "      <td>10</td>\n",
       "      <td>Vin</td>\n",
       "      <td>Grass</td>\n",
       "      <td>vgrass9@github.io</td>\n",
       "      <td>Male</td>\n",
       "      <td>3564766951377629</td>\n",
       "      <td>$232814.86</td>\n",
       "      <td>2</td>\n",
       "    </tr>\n",
       "    <tr>\n",
       "      <th>10</th>\n",
       "      <td>11</td>\n",
       "      <td>Henry</td>\n",
       "      <td>Maddie</td>\n",
       "      <td>hmaddiea@arstechnica.com</td>\n",
       "      <td>Female</td>\n",
       "      <td>5602241590924990</td>\n",
       "      <td>$275794.72</td>\n",
       "      <td>3</td>\n",
       "    </tr>\n",
       "    <tr>\n",
       "      <th>11</th>\n",
       "      <td>12</td>\n",
       "      <td>Julissa</td>\n",
       "      <td>Giacopello</td>\n",
       "      <td>jgiacopellob@usgs.gov</td>\n",
       "      <td>Male</td>\n",
       "      <td>3531120028012498</td>\n",
       "      <td>$49200.80</td>\n",
       "      <td>8</td>\n",
       "    </tr>\n",
       "    <tr>\n",
       "      <th>12</th>\n",
       "      <td>13</td>\n",
       "      <td>Roth</td>\n",
       "      <td>Clementet</td>\n",
       "      <td>rclementetc@prnewswire.com</td>\n",
       "      <td>Female</td>\n",
       "      <td>3588715614142203</td>\n",
       "      <td>$223926.36</td>\n",
       "      <td>8</td>\n",
       "    </tr>\n",
       "    <tr>\n",
       "      <th>13</th>\n",
       "      <td>14</td>\n",
       "      <td>Dinnie</td>\n",
       "      <td>Poland</td>\n",
       "      <td>dpolandd@springer.com</td>\n",
       "      <td>Male</td>\n",
       "      <td>3575148690466244</td>\n",
       "      <td>$107063.23</td>\n",
       "      <td>9</td>\n",
       "    </tr>\n",
       "    <tr>\n",
       "      <th>14</th>\n",
       "      <td>15</td>\n",
       "      <td>Nefen</td>\n",
       "      <td>Petrina</td>\n",
       "      <td>npetrinae@arizona.edu</td>\n",
       "      <td>Male</td>\n",
       "      <td>4913343707650950</td>\n",
       "      <td>$179058.87</td>\n",
       "      <td>8</td>\n",
       "    </tr>\n",
       "    <tr>\n",
       "      <th>15</th>\n",
       "      <td>16</td>\n",
       "      <td>Zelig</td>\n",
       "      <td>Chue</td>\n",
       "      <td>zchuef@wsj.com</td>\n",
       "      <td>Male</td>\n",
       "      <td>6334156218461386</td>\n",
       "      <td>$9965.45</td>\n",
       "      <td>9</td>\n",
       "    </tr>\n",
       "    <tr>\n",
       "      <th>16</th>\n",
       "      <td>17</td>\n",
       "      <td>Margret</td>\n",
       "      <td>Brisse</td>\n",
       "      <td>mbrisseg@washingtonpost.com</td>\n",
       "      <td>Female</td>\n",
       "      <td>3545632877684825</td>\n",
       "      <td>$230089.15</td>\n",
       "      <td>4</td>\n",
       "    </tr>\n",
       "    <tr>\n",
       "      <th>17</th>\n",
       "      <td>18</td>\n",
       "      <td>Rozalin</td>\n",
       "      <td>Tallquist</td>\n",
       "      <td>rtallquisth@cocolog-nifty.com</td>\n",
       "      <td>Agender</td>\n",
       "      <td>4903562934339309</td>\n",
       "      <td>$245007.03</td>\n",
       "      <td>9</td>\n",
       "    </tr>\n",
       "    <tr>\n",
       "      <th>18</th>\n",
       "      <td>19</td>\n",
       "      <td>Chery</td>\n",
       "      <td>Sweeten</td>\n",
       "      <td>csweeteni@geocities.jp</td>\n",
       "      <td>Female</td>\n",
       "      <td>3562119135935700</td>\n",
       "      <td>$49596.27</td>\n",
       "      <td>1</td>\n",
       "    </tr>\n",
       "    <tr>\n",
       "      <th>19</th>\n",
       "      <td>20</td>\n",
       "      <td>Dallas</td>\n",
       "      <td>Guillain</td>\n",
       "      <td>dguillainj@exblog.jp</td>\n",
       "      <td>Female</td>\n",
       "      <td>3556202032297057</td>\n",
       "      <td>$179987.90</td>\n",
       "      <td>5</td>\n",
       "    </tr>\n",
       "  </tbody>\n",
       "</table>\n",
       "</div>"
      ],
      "text/plain": [
       "    id first_name   last_name                          email       gender  \\\n",
       "0    1     Esdras        Woof         ewoof0@cyberchimps.com  Genderfluid   \n",
       "1    2      Dayle      Dorkin            ddorkin1@rambler.ru       Female   \n",
       "2    3       Darb        Poll               dpoll2@github.io  Genderqueer   \n",
       "3    4  Tanitansy     Allanby              tallanby3@mac.com       Female   \n",
       "4    5        Lon     Bachura      lbachura4@bizjournals.com         Male   \n",
       "5    6     Boycie        Beed               bbeed5@nifty.com       Female   \n",
       "6    7  Alejandra     Gleeson             agleeson6@1und1.de         Male   \n",
       "7    8     Terrye     Gilford   tgilford7@huffingtonpost.com       Female   \n",
       "8    9       Petr     Turmall      pturmall8@bizjournals.com       Female   \n",
       "9   10        Vin       Grass              vgrass9@github.io         Male   \n",
       "10  11      Henry      Maddie       hmaddiea@arstechnica.com       Female   \n",
       "11  12    Julissa  Giacopello          jgiacopellob@usgs.gov         Male   \n",
       "12  13       Roth   Clementet     rclementetc@prnewswire.com       Female   \n",
       "13  14     Dinnie      Poland          dpolandd@springer.com         Male   \n",
       "14  15      Nefen     Petrina          npetrinae@arizona.edu         Male   \n",
       "15  16      Zelig        Chue                 zchuef@wsj.com         Male   \n",
       "16  17    Margret      Brisse    mbrisseg@washingtonpost.com       Female   \n",
       "17  18    Rozalin   Tallquist  rtallquisth@cocolog-nifty.com      Agender   \n",
       "18  19      Chery     Sweeten         csweeteni@geocities.jp       Female   \n",
       "19  20     Dallas    Guillain           dguillainj@exblog.jp       Female   \n",
       "\n",
       "    CreditCardNumber CreditCardLimit  CreditRating  \n",
       "0   5464400705962728      $267373.54             2  \n",
       "1   3570835748616573      $279212.84             6  \n",
       "2   3543523413407981      $220606.83             8  \n",
       "3   3583780889066680        $6645.06             4  \n",
       "4     30017073265876      $327407.09             1  \n",
       "5    372301317645465      $279914.84             1  \n",
       "6   4508401219202214      $168005.20             6  \n",
       "7   4405945696289817      $114715.15             5  \n",
       "8   3540676954417331      $223906.99             3  \n",
       "9   3564766951377629      $232814.86             2  \n",
       "10  5602241590924990      $275794.72             3  \n",
       "11  3531120028012498       $49200.80             8  \n",
       "12  3588715614142203      $223926.36             8  \n",
       "13  3575148690466244      $107063.23             9  \n",
       "14  4913343707650950      $179058.87             8  \n",
       "15  6334156218461386        $9965.45             9  \n",
       "16  3545632877684825      $230089.15             4  \n",
       "17  4903562934339309      $245007.03             9  \n",
       "18  3562119135935700       $49596.27             1  \n",
       "19  3556202032297057      $179987.90             5  "
      ]
     },
     "execution_count": 46,
     "metadata": {},
     "output_type": "execute_result"
    }
   ],
   "source": [
    "df['CreditRating'] = np.random.randint(1, 10, df.shape[0]) # Add new column using numpy libs and get random integer\n",
    "df.head(20)"
   ]
  },
  {
   "cell_type": "code",
   "execution_count": 47,
   "metadata": {
    "scrolled": true
   },
   "outputs": [
    {
     "data": {
      "text/html": [
       "<div>\n",
       "<style scoped>\n",
       "    .dataframe tbody tr th:only-of-type {\n",
       "        vertical-align: middle;\n",
       "    }\n",
       "\n",
       "    .dataframe tbody tr th {\n",
       "        vertical-align: top;\n",
       "    }\n",
       "\n",
       "    .dataframe thead th {\n",
       "        text-align: right;\n",
       "    }\n",
       "</style>\n",
       "<table border=\"1\" class=\"dataframe\">\n",
       "  <thead>\n",
       "    <tr style=\"text-align: right;\">\n",
       "      <th></th>\n",
       "      <th>id</th>\n",
       "      <th>first_name</th>\n",
       "      <th>last_name</th>\n",
       "      <th>gender</th>\n",
       "      <th>CreditCardNumber</th>\n",
       "      <th>CreditCardLimit</th>\n",
       "      <th>CreditRating</th>\n",
       "    </tr>\n",
       "  </thead>\n",
       "  <tbody>\n",
       "    <tr>\n",
       "      <th>0</th>\n",
       "      <td>1</td>\n",
       "      <td>Esdras</td>\n",
       "      <td>Woof</td>\n",
       "      <td>Genderfluid</td>\n",
       "      <td>5464400705962728</td>\n",
       "      <td>$267373.54</td>\n",
       "      <td>2</td>\n",
       "    </tr>\n",
       "    <tr>\n",
       "      <th>1</th>\n",
       "      <td>2</td>\n",
       "      <td>Dayle</td>\n",
       "      <td>Dorkin</td>\n",
       "      <td>Female</td>\n",
       "      <td>3570835748616573</td>\n",
       "      <td>$279212.84</td>\n",
       "      <td>6</td>\n",
       "    </tr>\n",
       "    <tr>\n",
       "      <th>2</th>\n",
       "      <td>3</td>\n",
       "      <td>Darb</td>\n",
       "      <td>Poll</td>\n",
       "      <td>Genderqueer</td>\n",
       "      <td>3543523413407981</td>\n",
       "      <td>$220606.83</td>\n",
       "      <td>8</td>\n",
       "    </tr>\n",
       "    <tr>\n",
       "      <th>3</th>\n",
       "      <td>4</td>\n",
       "      <td>Tanitansy</td>\n",
       "      <td>Allanby</td>\n",
       "      <td>Female</td>\n",
       "      <td>3583780889066680</td>\n",
       "      <td>$6645.06</td>\n",
       "      <td>4</td>\n",
       "    </tr>\n",
       "    <tr>\n",
       "      <th>4</th>\n",
       "      <td>5</td>\n",
       "      <td>Lon</td>\n",
       "      <td>Bachura</td>\n",
       "      <td>Male</td>\n",
       "      <td>30017073265876</td>\n",
       "      <td>$327407.09</td>\n",
       "      <td>1</td>\n",
       "    </tr>\n",
       "    <tr>\n",
       "      <th>5</th>\n",
       "      <td>6</td>\n",
       "      <td>Boycie</td>\n",
       "      <td>Beed</td>\n",
       "      <td>Female</td>\n",
       "      <td>372301317645465</td>\n",
       "      <td>$279914.84</td>\n",
       "      <td>1</td>\n",
       "    </tr>\n",
       "    <tr>\n",
       "      <th>6</th>\n",
       "      <td>7</td>\n",
       "      <td>Alejandra</td>\n",
       "      <td>Gleeson</td>\n",
       "      <td>Male</td>\n",
       "      <td>4508401219202214</td>\n",
       "      <td>$168005.20</td>\n",
       "      <td>6</td>\n",
       "    </tr>\n",
       "    <tr>\n",
       "      <th>7</th>\n",
       "      <td>8</td>\n",
       "      <td>Terrye</td>\n",
       "      <td>Gilford</td>\n",
       "      <td>Female</td>\n",
       "      <td>4405945696289817</td>\n",
       "      <td>$114715.15</td>\n",
       "      <td>5</td>\n",
       "    </tr>\n",
       "    <tr>\n",
       "      <th>8</th>\n",
       "      <td>9</td>\n",
       "      <td>Petr</td>\n",
       "      <td>Turmall</td>\n",
       "      <td>Female</td>\n",
       "      <td>3540676954417331</td>\n",
       "      <td>$223906.99</td>\n",
       "      <td>3</td>\n",
       "    </tr>\n",
       "    <tr>\n",
       "      <th>9</th>\n",
       "      <td>10</td>\n",
       "      <td>Vin</td>\n",
       "      <td>Grass</td>\n",
       "      <td>Male</td>\n",
       "      <td>3564766951377629</td>\n",
       "      <td>$232814.86</td>\n",
       "      <td>2</td>\n",
       "    </tr>\n",
       "    <tr>\n",
       "      <th>10</th>\n",
       "      <td>11</td>\n",
       "      <td>Henry</td>\n",
       "      <td>Maddie</td>\n",
       "      <td>Female</td>\n",
       "      <td>5602241590924990</td>\n",
       "      <td>$275794.72</td>\n",
       "      <td>3</td>\n",
       "    </tr>\n",
       "    <tr>\n",
       "      <th>11</th>\n",
       "      <td>12</td>\n",
       "      <td>Julissa</td>\n",
       "      <td>Giacopello</td>\n",
       "      <td>Male</td>\n",
       "      <td>3531120028012498</td>\n",
       "      <td>$49200.80</td>\n",
       "      <td>8</td>\n",
       "    </tr>\n",
       "    <tr>\n",
       "      <th>12</th>\n",
       "      <td>13</td>\n",
       "      <td>Roth</td>\n",
       "      <td>Clementet</td>\n",
       "      <td>Female</td>\n",
       "      <td>3588715614142203</td>\n",
       "      <td>$223926.36</td>\n",
       "      <td>8</td>\n",
       "    </tr>\n",
       "    <tr>\n",
       "      <th>13</th>\n",
       "      <td>14</td>\n",
       "      <td>Dinnie</td>\n",
       "      <td>Poland</td>\n",
       "      <td>Male</td>\n",
       "      <td>3575148690466244</td>\n",
       "      <td>$107063.23</td>\n",
       "      <td>9</td>\n",
       "    </tr>\n",
       "    <tr>\n",
       "      <th>14</th>\n",
       "      <td>15</td>\n",
       "      <td>Nefen</td>\n",
       "      <td>Petrina</td>\n",
       "      <td>Male</td>\n",
       "      <td>4913343707650950</td>\n",
       "      <td>$179058.87</td>\n",
       "      <td>8</td>\n",
       "    </tr>\n",
       "    <tr>\n",
       "      <th>15</th>\n",
       "      <td>16</td>\n",
       "      <td>Zelig</td>\n",
       "      <td>Chue</td>\n",
       "      <td>Male</td>\n",
       "      <td>6334156218461386</td>\n",
       "      <td>$9965.45</td>\n",
       "      <td>9</td>\n",
       "    </tr>\n",
       "    <tr>\n",
       "      <th>16</th>\n",
       "      <td>17</td>\n",
       "      <td>Margret</td>\n",
       "      <td>Brisse</td>\n",
       "      <td>Female</td>\n",
       "      <td>3545632877684825</td>\n",
       "      <td>$230089.15</td>\n",
       "      <td>4</td>\n",
       "    </tr>\n",
       "    <tr>\n",
       "      <th>17</th>\n",
       "      <td>18</td>\n",
       "      <td>Rozalin</td>\n",
       "      <td>Tallquist</td>\n",
       "      <td>Agender</td>\n",
       "      <td>4903562934339309</td>\n",
       "      <td>$245007.03</td>\n",
       "      <td>9</td>\n",
       "    </tr>\n",
       "    <tr>\n",
       "      <th>18</th>\n",
       "      <td>19</td>\n",
       "      <td>Chery</td>\n",
       "      <td>Sweeten</td>\n",
       "      <td>Female</td>\n",
       "      <td>3562119135935700</td>\n",
       "      <td>$49596.27</td>\n",
       "      <td>1</td>\n",
       "    </tr>\n",
       "    <tr>\n",
       "      <th>19</th>\n",
       "      <td>20</td>\n",
       "      <td>Dallas</td>\n",
       "      <td>Guillain</td>\n",
       "      <td>Female</td>\n",
       "      <td>3556202032297057</td>\n",
       "      <td>$179987.90</td>\n",
       "      <td>5</td>\n",
       "    </tr>\n",
       "  </tbody>\n",
       "</table>\n",
       "</div>"
      ],
      "text/plain": [
       "    id first_name   last_name       gender  CreditCardNumber CreditCardLimit  \\\n",
       "0    1     Esdras        Woof  Genderfluid  5464400705962728      $267373.54   \n",
       "1    2      Dayle      Dorkin       Female  3570835748616573      $279212.84   \n",
       "2    3       Darb        Poll  Genderqueer  3543523413407981      $220606.83   \n",
       "3    4  Tanitansy     Allanby       Female  3583780889066680        $6645.06   \n",
       "4    5        Lon     Bachura         Male    30017073265876      $327407.09   \n",
       "5    6     Boycie        Beed       Female   372301317645465      $279914.84   \n",
       "6    7  Alejandra     Gleeson         Male  4508401219202214      $168005.20   \n",
       "7    8     Terrye     Gilford       Female  4405945696289817      $114715.15   \n",
       "8    9       Petr     Turmall       Female  3540676954417331      $223906.99   \n",
       "9   10        Vin       Grass         Male  3564766951377629      $232814.86   \n",
       "10  11      Henry      Maddie       Female  5602241590924990      $275794.72   \n",
       "11  12    Julissa  Giacopello         Male  3531120028012498       $49200.80   \n",
       "12  13       Roth   Clementet       Female  3588715614142203      $223926.36   \n",
       "13  14     Dinnie      Poland         Male  3575148690466244      $107063.23   \n",
       "14  15      Nefen     Petrina         Male  4913343707650950      $179058.87   \n",
       "15  16      Zelig        Chue         Male  6334156218461386        $9965.45   \n",
       "16  17    Margret      Brisse       Female  3545632877684825      $230089.15   \n",
       "17  18    Rozalin   Tallquist      Agender  4903562934339309      $245007.03   \n",
       "18  19      Chery     Sweeten       Female  3562119135935700       $49596.27   \n",
       "19  20     Dallas    Guillain       Female  3556202032297057      $179987.90   \n",
       "\n",
       "    CreditRating  \n",
       "0              2  \n",
       "1              6  \n",
       "2              8  \n",
       "3              4  \n",
       "4              1  \n",
       "5              1  \n",
       "6              6  \n",
       "7              5  \n",
       "8              3  \n",
       "9              2  \n",
       "10             3  \n",
       "11             8  \n",
       "12             8  \n",
       "13             9  \n",
       "14             8  \n",
       "15             9  \n",
       "16             4  \n",
       "17             9  \n",
       "18             1  \n",
       "19             5  "
      ]
     },
     "execution_count": 47,
     "metadata": {},
     "output_type": "execute_result"
    }
   ],
   "source": [
    "df.drop('email', axis=1, inplace=True) # drop the email column\n",
    "df.head(20)                            # show top 20 data"
   ]
  },
  {
   "cell_type": "code",
   "execution_count": 48,
   "metadata": {},
   "outputs": [
    {
     "name": "stdout",
     "output_type": "stream",
     "text": [
      "id                   0\n",
      "first_name           0\n",
      "last_name            0\n",
      "gender               0\n",
      "CreditCardNumber     0\n",
      "CreditCardLimit     23\n",
      "CreditRating         0\n",
      "dtype: int64\n"
     ]
    }
   ],
   "source": [
    "print(df.isnull().sum())   # \"isnull\" use to Detect missing values for an array-like object"
   ]
  },
  {
   "cell_type": "code",
   "execution_count": 49,
   "metadata": {},
   "outputs": [],
   "source": [
    "df.dropna(inplace=True)   # to drop \"null\" data"
   ]
  },
  {
   "cell_type": "code",
   "execution_count": 50,
   "metadata": {},
   "outputs": [
    {
     "data": {
      "text/html": [
       "<div>\n",
       "<style scoped>\n",
       "    .dataframe tbody tr th:only-of-type {\n",
       "        vertical-align: middle;\n",
       "    }\n",
       "\n",
       "    .dataframe tbody tr th {\n",
       "        vertical-align: top;\n",
       "    }\n",
       "\n",
       "    .dataframe thead th {\n",
       "        text-align: right;\n",
       "    }\n",
       "</style>\n",
       "<table border=\"1\" class=\"dataframe\">\n",
       "  <thead>\n",
       "    <tr style=\"text-align: right;\">\n",
       "      <th></th>\n",
       "      <th>id</th>\n",
       "      <th>first_name</th>\n",
       "      <th>last_name</th>\n",
       "      <th>gender</th>\n",
       "      <th>CreditCardNumber</th>\n",
       "      <th>CreditCardLimit</th>\n",
       "      <th>CreditRating</th>\n",
       "    </tr>\n",
       "  </thead>\n",
       "  <tbody>\n",
       "    <tr>\n",
       "      <th>0</th>\n",
       "      <td>1</td>\n",
       "      <td>Esdras</td>\n",
       "      <td>Woof</td>\n",
       "      <td>Genderfluid</td>\n",
       "      <td>5464400705962728</td>\n",
       "      <td>26737354</td>\n",
       "      <td>2</td>\n",
       "    </tr>\n",
       "    <tr>\n",
       "      <th>1</th>\n",
       "      <td>2</td>\n",
       "      <td>Dayle</td>\n",
       "      <td>Dorkin</td>\n",
       "      <td>Female</td>\n",
       "      <td>3570835748616573</td>\n",
       "      <td>27921284</td>\n",
       "      <td>6</td>\n",
       "    </tr>\n",
       "    <tr>\n",
       "      <th>2</th>\n",
       "      <td>3</td>\n",
       "      <td>Darb</td>\n",
       "      <td>Poll</td>\n",
       "      <td>Genderqueer</td>\n",
       "      <td>3543523413407981</td>\n",
       "      <td>22060683</td>\n",
       "      <td>8</td>\n",
       "    </tr>\n",
       "    <tr>\n",
       "      <th>3</th>\n",
       "      <td>4</td>\n",
       "      <td>Tanitansy</td>\n",
       "      <td>Allanby</td>\n",
       "      <td>Female</td>\n",
       "      <td>3583780889066680</td>\n",
       "      <td>664506</td>\n",
       "      <td>4</td>\n",
       "    </tr>\n",
       "    <tr>\n",
       "      <th>4</th>\n",
       "      <td>5</td>\n",
       "      <td>Lon</td>\n",
       "      <td>Bachura</td>\n",
       "      <td>Male</td>\n",
       "      <td>30017073265876</td>\n",
       "      <td>32740709</td>\n",
       "      <td>1</td>\n",
       "    </tr>\n",
       "  </tbody>\n",
       "</table>\n",
       "</div>"
      ],
      "text/plain": [
       "   id first_name last_name       gender  CreditCardNumber  CreditCardLimit  \\\n",
       "0   1     Esdras      Woof  Genderfluid  5464400705962728         26737354   \n",
       "1   2      Dayle    Dorkin       Female  3570835748616573         27921284   \n",
       "2   3       Darb      Poll  Genderqueer  3543523413407981         22060683   \n",
       "3   4  Tanitansy   Allanby       Female  3583780889066680           664506   \n",
       "4   5        Lon   Bachura         Male    30017073265876         32740709   \n",
       "\n",
       "   CreditRating  \n",
       "0             2  \n",
       "1             6  \n",
       "2             8  \n",
       "3             4  \n",
       "4             1  "
      ]
     },
     "execution_count": 50,
     "metadata": {},
     "output_type": "execute_result"
    }
   ],
   "source": [
    "df['CreditCardLimit'] = df['CreditCardLimit'].replace('[\\$,\\,\\.]','', regex = True).astype(int) # any currency symbols, and change datatype to integer\n",
    "df.head()"
   ]
  },
  {
   "cell_type": "code",
   "execution_count": 51,
   "metadata": {},
   "outputs": [
    {
     "data": {
      "text/plain": [
       "(977, 7)"
      ]
     },
     "execution_count": 51,
     "metadata": {},
     "output_type": "execute_result"
    }
   ],
   "source": [
    "df.shape                  # Inform the number of row vs column"
   ]
  },
  {
   "cell_type": "code",
   "execution_count": 52,
   "metadata": {},
   "outputs": [
    {
     "data": {
      "text/plain": [
       "Index(['id', 'first_name', 'last_name', 'gender', 'CreditCardNumber',\n",
       "       'CreditCardLimit', 'CreditRating'],\n",
       "      dtype='object')"
      ]
     },
     "execution_count": 52,
     "metadata": {},
     "output_type": "execute_result"
    }
   ],
   "source": [
    "df.columns                # Shows columns name"
   ]
  },
  {
   "cell_type": "code",
   "execution_count": 53,
   "metadata": {},
   "outputs": [
    {
     "data": {
      "text/plain": [
       "id                  977\n",
       "first_name          977\n",
       "last_name           977\n",
       "gender              977\n",
       "CreditCardNumber    977\n",
       "CreditCardLimit     977\n",
       "CreditRating        977\n",
       "dtype: int64"
      ]
     },
     "execution_count": 53,
     "metadata": {},
     "output_type": "execute_result"
    }
   ],
   "source": [
    "df.count()                # shows column that didn't have \"null\" data"
   ]
  },
  {
   "cell_type": "code",
   "execution_count": 54,
   "metadata": {
    "scrolled": true
   },
   "outputs": [
    {
     "name": "stdout",
     "output_type": "stream",
     "text": [
      "       id  first_name  last_name  gender  CreditCardNumber  CreditCardLimit  \\\n",
      "0    True        True       True    True              True             True   \n",
      "1    True        True       True    True              True             True   \n",
      "2    True        True       True    True              True             True   \n",
      "3    True        True       True    True              True             True   \n",
      "4    True        True       True    True              True             True   \n",
      "..    ...         ...        ...     ...               ...              ...   \n",
      "995  True        True       True    True              True             True   \n",
      "996  True        True       True    True              True             True   \n",
      "997  True        True       True    True              True             True   \n",
      "998  True        True       True    True              True             True   \n",
      "999  True        True       True    True              True             True   \n",
      "\n",
      "     CreditRating  \n",
      "0            True  \n",
      "1            True  \n",
      "2            True  \n",
      "3            True  \n",
      "4            True  \n",
      "..            ...  \n",
      "995          True  \n",
      "996          True  \n",
      "997          True  \n",
      "998          True  \n",
      "999          True  \n",
      "\n",
      "[977 rows x 7 columns]\n"
     ]
    }
   ],
   "source": [
    "print(df.notna())"
   ]
  },
  {
   "cell_type": "code",
   "execution_count": 55,
   "metadata": {
    "scrolled": false
   },
   "outputs": [
    {
     "data": {
      "text/html": [
       "<div>\n",
       "<style scoped>\n",
       "    .dataframe tbody tr th:only-of-type {\n",
       "        vertical-align: middle;\n",
       "    }\n",
       "\n",
       "    .dataframe tbody tr th {\n",
       "        vertical-align: top;\n",
       "    }\n",
       "\n",
       "    .dataframe thead th {\n",
       "        text-align: right;\n",
       "    }\n",
       "</style>\n",
       "<table border=\"1\" class=\"dataframe\">\n",
       "  <thead>\n",
       "    <tr style=\"text-align: right;\">\n",
       "      <th></th>\n",
       "      <th>id</th>\n",
       "      <th>first_name</th>\n",
       "      <th>last_name</th>\n",
       "      <th>gender</th>\n",
       "      <th>credit_card_number</th>\n",
       "      <th>credit_card_limit</th>\n",
       "      <th>CreditRating</th>\n",
       "    </tr>\n",
       "  </thead>\n",
       "  <tbody>\n",
       "    <tr>\n",
       "      <th>0</th>\n",
       "      <td>1</td>\n",
       "      <td>Esdras</td>\n",
       "      <td>Woof</td>\n",
       "      <td>Genderfluid</td>\n",
       "      <td>5464400705962728</td>\n",
       "      <td>26737354</td>\n",
       "      <td>2</td>\n",
       "    </tr>\n",
       "    <tr>\n",
       "      <th>1</th>\n",
       "      <td>2</td>\n",
       "      <td>Dayle</td>\n",
       "      <td>Dorkin</td>\n",
       "      <td>Female</td>\n",
       "      <td>3570835748616573</td>\n",
       "      <td>27921284</td>\n",
       "      <td>6</td>\n",
       "    </tr>\n",
       "    <tr>\n",
       "      <th>2</th>\n",
       "      <td>3</td>\n",
       "      <td>Darb</td>\n",
       "      <td>Poll</td>\n",
       "      <td>Genderqueer</td>\n",
       "      <td>3543523413407981</td>\n",
       "      <td>22060683</td>\n",
       "      <td>8</td>\n",
       "    </tr>\n",
       "    <tr>\n",
       "      <th>3</th>\n",
       "      <td>4</td>\n",
       "      <td>Tanitansy</td>\n",
       "      <td>Allanby</td>\n",
       "      <td>Female</td>\n",
       "      <td>3583780889066680</td>\n",
       "      <td>664506</td>\n",
       "      <td>4</td>\n",
       "    </tr>\n",
       "    <tr>\n",
       "      <th>4</th>\n",
       "      <td>5</td>\n",
       "      <td>Lon</td>\n",
       "      <td>Bachura</td>\n",
       "      <td>Male</td>\n",
       "      <td>30017073265876</td>\n",
       "      <td>32740709</td>\n",
       "      <td>1</td>\n",
       "    </tr>\n",
       "    <tr>\n",
       "      <th>5</th>\n",
       "      <td>6</td>\n",
       "      <td>Boycie</td>\n",
       "      <td>Beed</td>\n",
       "      <td>Female</td>\n",
       "      <td>372301317645465</td>\n",
       "      <td>27991484</td>\n",
       "      <td>1</td>\n",
       "    </tr>\n",
       "    <tr>\n",
       "      <th>6</th>\n",
       "      <td>7</td>\n",
       "      <td>Alejandra</td>\n",
       "      <td>Gleeson</td>\n",
       "      <td>Male</td>\n",
       "      <td>4508401219202214</td>\n",
       "      <td>16800520</td>\n",
       "      <td>6</td>\n",
       "    </tr>\n",
       "    <tr>\n",
       "      <th>7</th>\n",
       "      <td>8</td>\n",
       "      <td>Terrye</td>\n",
       "      <td>Gilford</td>\n",
       "      <td>Female</td>\n",
       "      <td>4405945696289817</td>\n",
       "      <td>11471515</td>\n",
       "      <td>5</td>\n",
       "    </tr>\n",
       "    <tr>\n",
       "      <th>8</th>\n",
       "      <td>9</td>\n",
       "      <td>Petr</td>\n",
       "      <td>Turmall</td>\n",
       "      <td>Female</td>\n",
       "      <td>3540676954417331</td>\n",
       "      <td>22390699</td>\n",
       "      <td>3</td>\n",
       "    </tr>\n",
       "    <tr>\n",
       "      <th>9</th>\n",
       "      <td>10</td>\n",
       "      <td>Vin</td>\n",
       "      <td>Grass</td>\n",
       "      <td>Male</td>\n",
       "      <td>3564766951377629</td>\n",
       "      <td>23281486</td>\n",
       "      <td>2</td>\n",
       "    </tr>\n",
       "  </tbody>\n",
       "</table>\n",
       "</div>"
      ],
      "text/plain": [
       "   id first_name last_name       gender  credit_card_number  \\\n",
       "0   1     Esdras      Woof  Genderfluid    5464400705962728   \n",
       "1   2      Dayle    Dorkin       Female    3570835748616573   \n",
       "2   3       Darb      Poll  Genderqueer    3543523413407981   \n",
       "3   4  Tanitansy   Allanby       Female    3583780889066680   \n",
       "4   5        Lon   Bachura         Male      30017073265876   \n",
       "5   6     Boycie      Beed       Female     372301317645465   \n",
       "6   7  Alejandra   Gleeson         Male    4508401219202214   \n",
       "7   8     Terrye   Gilford       Female    4405945696289817   \n",
       "8   9       Petr   Turmall       Female    3540676954417331   \n",
       "9  10        Vin     Grass         Male    3564766951377629   \n",
       "\n",
       "   credit_card_limit  CreditRating  \n",
       "0           26737354             2  \n",
       "1           27921284             6  \n",
       "2           22060683             8  \n",
       "3             664506             4  \n",
       "4           32740709             1  \n",
       "5           27991484             1  \n",
       "6           16800520             6  \n",
       "7           11471515             5  \n",
       "8           22390699             3  \n",
       "9           23281486             2  "
      ]
     },
     "execution_count": 55,
     "metadata": {},
     "output_type": "execute_result"
    }
   ],
   "source": [
    "df = df.rename(columns={\"CreditCardNumber\":\"credit_card_number\",\"CreditCardLimit\":\"credit_card_limit\"})\n",
    "df.head(10)"
   ]
  },
  {
   "cell_type": "code",
   "execution_count": 65,
   "metadata": {},
   "outputs": [
    {
     "data": {
      "text/plain": [
       "id                                 409\n",
       "first_name                      Gustav\n",
       "last_name                  Tellenbrook\n",
       "gender                            Male\n",
       "credit_card_number    5602247261991069\n",
       "credit_card_limit             34965443\n",
       "CreditRating                         3\n",
       "Name: 408, dtype: object"
      ]
     },
     "execution_count": 65,
     "metadata": {},
     "output_type": "execute_result"
    }
   ],
   "source": [
    "df.loc[df['credit_card_limit'].idxmax()]         "
   ]
  },
  {
   "cell_type": "code",
   "execution_count": 66,
   "metadata": {},
   "outputs": [
    {
     "data": {
      "text/plain": [
       "id                                 824\n",
       "first_name                      Ancell\n",
       "last_name                        Clark\n",
       "gender                            Male\n",
       "credit_card_number    4905692158598237\n",
       "credit_card_limit               144097\n",
       "CreditRating                         7\n",
       "Name: 823, dtype: object"
      ]
     },
     "execution_count": 66,
     "metadata": {},
     "output_type": "execute_result"
    }
   ],
   "source": [
    "df.loc[df['credit_card_limit'].idxmin()]"
   ]
  },
  {
   "cell_type": "code",
   "execution_count": 68,
   "metadata": {},
   "outputs": [
    {
     "data": {
      "text/plain": [
       "Female         447\n",
       "Male           426\n",
       "Genderqueer     20\n",
       "Bigender        20\n",
       "Agender         19\n",
       "Genderfluid     17\n",
       "Non-binary      15\n",
       "Polygender      13\n",
       "Name: gender, dtype: int64"
      ]
     },
     "execution_count": 68,
     "metadata": {},
     "output_type": "execute_result"
    }
   ],
   "source": [
    "df[\"gender\"].value_counts()"
   ]
  },
  {
   "cell_type": "markdown",
   "metadata": {},
   "source": [
    "## 4. Data Visualization"
   ]
  },
  {
   "cell_type": "code",
   "execution_count": 56,
   "metadata": {},
   "outputs": [
    {
     "data": {
      "image/png": "[encoded data removed]",
      "text/plain": [
       "<Figure size 1440x1080 with 1 Axes>"
      ]
     },
     "metadata": {},
     "output_type": "display_data"
    }
   ],
   "source": [
    "#barplot\n",
    "df[\"CreditRating\"].value_counts().plot.barh();"
   ]
  },
  {
   "cell_type": "code",
   "execution_count": 103,
   "metadata": {},
   "outputs": [
    {
     "data": {
      "text/plain": [
       "Text(0.5, 1.0, 'The Correlation of Gender & Credit Card Limit')"
      ]
     },
     "execution_count": 103,
     "metadata": {},
     "output_type": "execute_result"
    },
    {
     "data": {
      "image/png": "[encoded data removed]",
      "text/plain": [
       "<Figure size 720x360 with 1 Axes>"
      ]
     },
     "metadata": {},
     "output_type": "display_data"
    }
   ],
   "source": [
    "fig, ax = plt.subplots(figsize=(10,5))\n",
    "sns.set_style(\"ticks\")\n",
    "sns.set_context(\"poster\")\n",
    "sns.stripplot(x = \"credit_card_limit\", y = \"gender\", data = df)\n",
    "sns.plotting_context()\n",
    "ax.set_xlabel('Credit Card Limit (USD)')\n",
    "ax.set_ylabel('Gender')\n",
    "plt.title(\"The Correlation of Gender & Credit Card Limit\")"
   ]
  },
  {
   "cell_type": "code",
   "execution_count": 63,
   "metadata": {},
   "outputs": [
    {
     "data": {
      "image/png": "[encoded data removed]",
      "text/plain": [
       "<Figure size 1440x1080 with 1 Axes>"
      ]
     },
     "metadata": {},
     "output_type": "display_data"
    }
   ],
   "source": [
    "df[\"gender\"].value_counts().plot.barh();"
   ]
  },
  {
   "cell_type": "code",
   "execution_count": 64,
   "metadata": {
    "scrolled": false
   },
   "outputs": [
    {
     "data": {
      "image/png": "[encoded data removed]",
      "text/plain": [
       "<Figure size 1440x1080 with 1 Axes>"
      ]
     },
     "metadata": {},
     "output_type": "display_data"
    }
   ],
   "source": [
    "gendvsccl = df.groupby(['gender'])['CreditRating'].count().iloc[:20]\n",
    "plt.barh(gendvsccl.index, gendvsccl, color = ['blue','red'], alpha = 0.8)\n",
    "plt.ylabel(\"gender\")\n",
    "plt.xlabel(\"CreditRating (in USD)\")\n",
    "plt.title(\"The Correlation of Gender & Credit Card Limit\")\n",
    "plt.show()"
   ]
  },
  {
   "cell_type": "code",
   "execution_count": 92,
   "metadata": {
    "scrolled": true
   },
   "outputs": [
    {
     "data": {
      "text/plain": [
       "Text(0.5, 1.0, 'The Correlation of Gender & Credit Card Limit')"
      ]
     },
     "execution_count": 92,
     "metadata": {},
     "output_type": "execute_result"
    },
    {
     "data": {
      "image/png": "[encoded data removed]",
      "text/plain": [
       "<Figure size 720x360 with 1 Axes>"
      ]
     },
     "metadata": {},
     "output_type": "display_data"
    }
   ],
   "source": [
    "fig, ax = plt.subplots(figsize=(10,5))\n",
    "ax.scatter(df['credit_card_limit'], df['gender'])\n",
    "ax.set_xlabel('Credit Card Limit (USD)')\n",
    "ax.set_ylabel('Gender')\n",
    "plt.title(\"The Correlation of Gender & Credit Card Limit\")"
   ]
  },
  {
   "cell_type": "code",
   "execution_count": 115,
   "metadata": {},
   "outputs": [
    {
     "data": {
      "text/plain": [
       "Text(0.5, 1.0, 'The Correlation of Gender & Credit Rating')"
      ]
     },
     "execution_count": 115,
     "metadata": {},
     "output_type": "execute_result"
    },
    {
     "data": {
      "image/png": "[encoded data removed]",
      "text/plain": [
       "<Figure size 720x360 with 1 Axes>"
      ]
     },
     "metadata": {},
     "output_type": "display_data"
    }
   ],
   "source": [
    "fig, ax = plt.subplots(figsize=(10,5))\n",
    "ax.scatter(df['gender'], df['CreditRating'])\n",
    "ax.set_xlabel('gender')\n",
    "ax.set_ylabel('CreditRating')\n",
    "plt.title(\"The Correlation of Gender & Credit Rating\")"
   ]
  },
  {
   "cell_type": "code",
   "execution_count": 62,
   "metadata": {
    "scrolled": false
   },
   "outputs": [
    {
     "data": {
      "image/png": "[encoded data removed]",
      "text/plain": [
       "<Figure size 1440x1080 with 1 Axes>"
      ]
     },
     "metadata": {},
     "output_type": "display_data"
    }
   ],
   "source": [
    "sns.set(rc={'figure.figsize':(20,15)})\n",
    "sns.barplot(x=\"gender\", y = df.gender.index , data=df);"
   ]
  }
 ],
 "metadata": {
  "colab": {
   "name": "EDAVicaProject.ipynb",
   "provenance": [],
   "toc_visible": true
  },
  "kernelspec": {
   "display_name": "Python 3",
   "language": "python",
   "name": "python3"
  },
  "language_info": {
   "codemirror_mode": {
    "name": "ipython",
    "version": 3
   },
   "file_extension": ".py",
   "mimetype": "text/x-python",
   "name": "python",
   "nbconvert_exporter": "python",
   "pygments_lexer": "ipython3",
   "version": "3.8.8"
  }
 },
 "nbformat": 4,
 "nbformat_minor": 1
}
